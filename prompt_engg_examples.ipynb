{
  "cells": [
    {
      "attachments": {},
      "cell_type": "markdown",
      "metadata": {},
      "source": [
        "# Prompt Engineering Techniques\n",
        "\n",
        "This notebook contains examples demonstrating different prompt engineering techniques.\n",
        "\n",
        "[Microsoft learn Prompt Engg](https://learn.microsoft.com/en-us/azure/ai-services/openai/concepts/advanced-prompt-engineering?pivots=programming-language-chat-completions) and [Prompting guide](https://www.promptingguide.ai/techniques) is used as a reference\n",
        "\n",
        "- Zero shot\n",
        "- Few shot\n",
        "- CoT\n",
        "- Self Consistency\n",
        "- Generate knowledge prompting\n",
        "- Prompt chaining\n",
        "- Tree of thoughts\n",
        "- RAG\n",
        "- Automatic reasoning and tool use\n",
        "- Automatic prompt engineer\n",
        "- Active-prompt\n",
        "- Directional Stimulus prompting\n",
        "- Program aided language models\n",
        "- ReAct\n",
        "- Multimodal CoT\n",
        "- Graph Prompting"
      ]
    },
    {
      "attachments": {},
      "cell_type": "markdown",
      "metadata": {},
      "source": [
        "---"
      ]
    },
    {
      "cell_type": "code",
      "execution_count": 2,
      "metadata": {
        "gather": {
          "logged": 1709947925849
        },
        "jupyter": {
          "outputs_hidden": false,
          "source_hidden": false
        },
        "nteract": {
          "transient": {
            "deleting": false
          }
        }
      },
      "outputs": [
        {
          "data": {
            "text/plain": [
              "'c:\\\\Users\\\\nileshjoshi\\\\git\\\\aoai-poc'"
            ]
          },
          "execution_count": 2,
          "metadata": {},
          "output_type": "execute_result"
        }
      ],
      "source": [
        "#checking current dir\n",
        "import os\n",
        "cwd = os.getcwd()\n",
        "cwd"
      ]
    },
    {
      "cell_type": "markdown",
      "metadata": {
        "nteract": {
          "transient": {
            "deleting": false
          }
        }
      },
      "source": [
        "In my virtual environment, I have already installed libraries, below commands to get details of libraries installed"
      ]
    },
    {
      "cell_type": "code",
      "execution_count": 3,
      "metadata": {
        "jupyter": {
          "outputs_hidden": false,
          "source_hidden": false
        },
        "nteract": {
          "transient": {
            "deleting": false
          }
        }
      },
      "outputs": [
        {
          "name": "stdout",
          "output_type": "stream",
          "text": [
            "Name: openai\n",
            "Version: 1.10.0\n",
            "Summary: The official Python library for the openai API\n",
            "Home-page: \n",
            "Author: \n",
            "Author-email: OpenAI <support@openai.com>\n",
            "License: \n",
            "Location: c:\\Users\\nileshjoshi\\AppData\\Local\\miniconda3\\envs\\aoaipoc\\Lib\\site-packages\n",
            "Requires: anyio, distro, httpx, pydantic, sniffio, tqdm, typing-extensions\n",
            "Required-by: \n",
            "Note: you may need to restart the kernel to use updated packages.\n"
          ]
        }
      ],
      "source": [
        "%pip show openai"
      ]
    },
    {
      "cell_type": "code",
      "execution_count": 4,
      "metadata": {
        "jupyter": {
          "outputs_hidden": false,
          "source_hidden": false
        },
        "nteract": {
          "transient": {
            "deleting": false
          }
        }
      },
      "outputs": [
        {
          "name": "stdout",
          "output_type": "stream",
          "text": [
            "aiohttp==3.9.3\r\n",
            "aiosignal==1.3.1\r\n",
            "annotated-types==0.6.0\r\n",
            "anyio==4.2.0\r\n",
            "asttokens @ file:///opt/conda/conda-bld/asttokens_1646925590279/work\r\n",
            "attrs==23.2.0\r\n",
            "azure-ai-ml==1.13.0\r\n",
            "azure-common==1.1.28\r\n",
            "azure-core==1.29.7\r\n",
            "azure-identity==1.15.0\r\n",
            "azure-mgmt-core==1.4.0\r\n",
            "azure-storage-blob==12.19.0\r\n",
            "azure-storage-file-datalake==12.14.0\r\n",
            "azure-storage-file-share==12.15.0\r\n",
            "cachetools==5.3.2\r\n",
            "certifi==2023.11.17\r\n",
            "cffi==1.16.0\r\n",
            "charset-normalizer==3.3.2\r\n",
            "colorama==0.4.6\r\n",
            "comm @ file:///work/ci_py311/comm_1677709131612/work\r\n",
            "cryptography==42.0.2\r\n",
            "dataclasses-json==0.6.4\r\n",
            "debugpy @ file:///croot/debugpy_1690905042057/work\r\n",
            "decorator @ file:///opt/conda/conda-bld/decorator_1643638310831/work\r\n",
            "distro==1.9.0\r\n",
            "executing @ file:///opt/conda/conda-bld/executing_1646925071911/work\r\n",
            "frozenlist==1.4.1\r\n",
            "google-api-core==2.16.1\r\n",
            "google-auth==2.27.0\r\n",
            "googleapis-common-protos==1.62.0\r\n",
            "greenlet==3.0.3\r\n",
            "h11==0.14.0\r\n",
            "httpcore==1.0.2\r\n",
            "httpx==0.26.0\r\n",
            "idna==3.6\r\n",
            "ipykernel @ file:///croot/ipykernel_1705933831282/work\r\n",
            "ipython @ file:///croot/ipython_1704833016303/work\r\n",
            "isodate==0.6.1\r\n",
            "jedi @ file:///work/ci_py311_2/jedi_1679336495545/work\r\n",
            "jsonpatch==1.33\r\n",
            "jsonpointer==2.4\r\n",
            "jsonschema==4.21.1\r\n",
            "jsonschema-specifications==2023.12.1\r\n",
            "jupyter_client @ file:///croot/jupyter_client_1699455897726/work\r\n",
            "jupyter_core @ file:///croot/jupyter_core_1698937308754/work\r\n",
            "langchain==0.1.9\r\n",
            "langchain-community==0.0.24\r\n",
            "langchain-core==0.1.27\r\n",
            "langsmith==0.1.10\r\n",
            "marshmallow==3.20.2\r\n",
            "matplotlib-inline @ file:///work/ci_py311/matplotlib-inline_1676823841154/work\r\n",
            "msal==1.26.0\r\n",
            "msal-extensions==1.1.0\r\n",
            "msrest==0.7.1\r\n",
            "multidict==6.0.5\r\n",
            "mypy-extensions==1.0.0\r\n",
            "nest-asyncio @ file:///work/ci_py311/nest-asyncio_1676823382924/work\r\n",
            "numpy==1.26.3\r\n",
            "oauthlib==3.2.2\r\n",
            "openai==1.10.0\r\n",
            "opencensus==0.11.4\r\n",
            "opencensus-context==0.1.3\r\n",
            "opencensus-ext-azure==1.1.13\r\n",
            "orjson==3.9.15\r\n",
            "packaging==23.2\r\n",
            "pandas==2.2.0\r\n",
            "parso @ file:///opt/conda/conda-bld/parso_1641458642106/work\r\n",
            "pexpect @ file:///tmp/build/80754af9/pexpect_1605563209008/work\r\n",
            "platformdirs @ file:///croot/platformdirs_1692205439124/work\r\n",
            "portalocker==2.8.2\r\n",
            "prompt-toolkit @ file:///croot/prompt-toolkit_1704404351921/work\r\n",
            "protobuf==4.25.2\r\n",
            "psutil @ file:///work/ci_py311_2/psutil_1679337388738/work\r\n",
            "ptyprocess @ file:///tmp/build/80754af9/ptyprocess_1609355006118/work/dist/ptyprocess-0.7.0-py2.py3-none-any.whl\r\n",
            "pure-eval @ file:///opt/conda/conda-bld/pure_eval_1646925070566/work\r\n",
            "pyasn1==0.5.1\r\n",
            "pyasn1-modules==0.3.0\r\n",
            "pycparser==2.21\r\n",
            "pydantic==2.6.0\r\n",
            "pydantic_core==2.16.1\r\n",
            "pydash==7.0.5\r\n",
            "Pygments @ file:///croot/pygments_1684279966437/work\r\n",
            "PyJWT==2.8.0\r\n",
            "python-dateutil @ file:///tmp/build/80754af9/python-dateutil_1626374649649/work\r\n",
            "python-dotenv==1.0.1\r\n",
            "pytz==2023.4\r\n",
            "PyYAML==6.0.1\r\n",
            "pyzmq @ file:///croot/pyzmq_1705605076900/work\r\n",
            "referencing==0.33.0\r\n",
            "requests==2.31.0\r\n",
            "requests-oauthlib==1.3.1\r\n",
            "rpds-py==0.17.1\r\n",
            "rsa==4.9\r\n",
            "six @ file:///tmp/build/80754af9/six_1644875935023/work\r\n",
            "sniffio==1.3.0\r\n",
            "SQLAlchemy==2.0.27\r\n",
            "stack-data @ file:///opt/conda/conda-bld/stack_data_1646927590127/work\r\n",
            "strictyaml==1.7.3\r\n",
            "tenacity==8.2.3\r\n",
            "tornado @ file:///croot/tornado_1696936946304/work\r\n",
            "tqdm==4.66.1\r\n",
            "traitlets @ file:///work/ci_py311/traitlets_1676823305040/work\r\n",
            "typing-inspect==0.9.0\r\n",
            "typing_extensions==4.9.0\r\n",
            "tzdata==2023.4\r\n",
            "urllib3==2.2.0\r\n",
            "wcwidth @ file:///Users/ktietz/demo/mc3/conda-bld/wcwidth_1629357192024/work\r\n",
            "yarl==1.9.4\r\n",
            "Note: you may need to restart the kernel to use updated packages.\n"
          ]
        }
      ],
      "source": [
        "%pip freeze"
      ]
    },
    {
      "cell_type": "code",
      "execution_count": 4,
      "metadata": {
        "gather": {
          "logged": 1709947930484
        }
      },
      "outputs": [],
      "source": [
        "#import required libraries \n",
        "import openai\n",
        "from openai import AzureOpenAI\n",
        "import os\n",
        "import IPython\n",
        "from langchain.llms import OpenAI\n",
        "from dotenv import load_dotenv"
      ]
    },
    {
      "cell_type": "code",
      "execution_count": 5,
      "metadata": {
        "gather": {
          "logged": 1709947930681
        }
      },
      "outputs": [],
      "source": [
        "#Load environment variables from env file. \n",
        "load_dotenv(\"credentials.env\", override=True)\n",
        "\n",
        "# API configuration\n",
        "openai.api_key = os.getenv(\"AZURE_OPENAI_API_KEY\")\n",
        "MODEL_DEPLOYMENT_NAME = \"gpt-35-turbo\"\n",
        "# set variables required for LangChain\n",
        "os.environ[\"OPENAI_API_TYPE\"]=os.environ[\"OPENAI_API_TYPE\"]\n",
        "os.environ[\"OPENAI_API_VERSION\"] = os.environ[\"AZURE_OPENAI_API_VERSION\"]\n",
        "os.environ[\"OPENAI_API_BASE\"]= os.environ[\"AZURE_OPENAI_ENDPOINT\"] # Your Azure OpenAI resource endpoint\n",
        "os.environ[\"OPENAI_API_KEY\"]= os.environ[\"AZURE_OPENAI_API_KEY\"] # Your Azure OpenAI resource key"
      ]
    },
    {
      "cell_type": "code",
      "execution_count": 6,
      "metadata": {
        "gather": {
          "logged": 1709947930854
        }
      },
      "outputs": [],
      "source": [
        "#set_openAI_params method - to set parameters for Open AI model\n",
        "#Default:  'temperature=0.7' and 'top-p=1'\n",
        "\n",
        "def set_openAI_params(\n",
        "    model=MODEL_DEPLOYMENT_NAME,\n",
        "    temperature=0.7,\n",
        "    max_tokens=256,\n",
        "    top_p=1,\n",
        "    frequency_penalty=0,\n",
        "    presence_penalty=0,\n",
        "):\n",
        "    \"\"\" set openai parameters\"\"\"\n",
        "\n",
        "    openai_params = {}    \n",
        "\n",
        "    openai_params['model'] = model\n",
        "    openai_params['temperature'] = temperature\n",
        "    openai_params['max_tokens'] = max_tokens\n",
        "    openai_params['top_p'] = top_p\n",
        "    openai_params['frequency_penalty'] = frequency_penalty\n",
        "    openai_params['presence_penalty'] = presence_penalty\n",
        "    return openai_params\n",
        "\n",
        "#completion method : To call AOAI API\n",
        "def get_completion(params, messages):\n",
        "    \"\"\" GET completion from openai api\"\"\"\n",
        "    client = AzureOpenAI(\n",
        "        azure_endpoint=os.getenv(\"AZURE_OPENAI_ENDPOINT\"), \n",
        "        api_key=os.getenv(\"AZURE_OPENAI_API_KEY\"),  \n",
        "        api_version=\"2023-12-01-preview\" #Function calling works in this API\n",
        "    )\n",
        "    response = client.chat.completions.create(\n",
        "        model=MODEL_DEPLOYMENT_NAME,\n",
        "        messages=messages,\n",
        "        temperature = params['temperature'],\n",
        "        max_tokens = params['max_tokens'],\n",
        "        top_p = params['top_p'],\n",
        "        frequency_penalty = params['frequency_penalty'],\n",
        "        presence_penalty = params['presence_penalty']\n",
        "    )    \n",
        "    return response"
      ]
    },
    {
      "attachments": {},
      "cell_type": "markdown",
      "metadata": {},
      "source": [
        "Basic prompt example:"
      ]
    },
    {
      "cell_type": "code",
      "execution_count": 7,
      "metadata": {
        "gather": {
          "logged": 1709947931059
        }
      },
      "outputs": [],
      "source": [
        "# basic example\n",
        "params = set_openAI_params()\n",
        "\n",
        "prompt = \"The sky is\"\n",
        "\n",
        "messages = [\n",
        "    {\n",
        "        \"role\": \"user\",\n",
        "        \"content\": prompt\n",
        "    }\n",
        "]\n",
        "\n",
        "response = get_completion(params, messages)"
      ]
    },
    {
      "cell_type": "code",
      "execution_count": 8,
      "metadata": {
        "gather": {
          "logged": 1709947931248
        }
      },
      "outputs": [
        {
          "data": {
            "text/plain": [
              "\" a beautiful shade of blue with fluffy white clouds scattered across it. The sun is shining brightly, casting a warm glow over everything below. It's a peaceful and serene sight that fills the heart with joy and wonder.\""
            ]
          },
          "execution_count": 8,
          "metadata": {},
          "output_type": "execute_result"
        }
      ],
      "source": [
        "response.choices[0].message.content"
      ]
    },
    {
      "attachments": {},
      "cell_type": "markdown",
      "metadata": {},
      "source": [
        "Try with different temperature to compare results:"
      ]
    },
    {
      "cell_type": "code",
      "execution_count": 9,
      "metadata": {
        "gather": {
          "logged": 1709947931686
        }
      },
      "outputs": [
        {
          "data": {
            "text/markdown": [
              " blue with fluffy white clouds."
            ],
            "text/plain": [
              "<IPython.core.display.Markdown object>"
            ]
          },
          "execution_count": 9,
          "metadata": {},
          "output_type": "execute_result"
        }
      ],
      "source": [
        "params = set_openAI_params(temperature=0)\n",
        "response = get_completion(params, messages)\n",
        "IPython.display.Markdown(response.choices[0].message.content)"
      ]
    },
    {
      "cell_type": "markdown",
      "metadata": {
        "nteract": {
          "transient": {
            "deleting": false
          }
        }
      },
      "source": [
        "**Temperature**: Controls randomness. Lowering the temperature means that the model produces more repetitive and deterministic responses. Increasing the temperature results in more unexpected or creative responses. Try adjusting temperature or Top P but not both.\n",
        "\n",
        "**Top probabilities:** Similar to temperature, this controls randomness but uses a different method. Lowering Top P narrows the model’s token selection to likelier tokens. Increasing Top P lets the model choose from tokens with both high and low likelihood. Try adjusting temperature or Top P but not both.\n",
        "\n",
        "Reference for more details: https://learn.microsoft.com/en-us/azure/ai-services/openai/chatgpt-quickstart?tabs=command-line%2Cpython&pivots=programming-language-studio#settings\n"
      ]
    },
    {
      "attachments": {},
      "cell_type": "markdown",
      "metadata": {},
      "source": [
        "### 1.1 Text Summarization"
      ]
    },
    {
      "cell_type": "code",
      "execution_count": 10,
      "metadata": {
        "gather": {
          "logged": 1709947932372
        }
      },
      "outputs": [
        {
          "data": {
            "text/markdown": [
              "Antibiotics are medications that treat bacterial infections by killing or preventing the reproduction of bacteria, but are not effective against viral infections and should be used carefully to avoid antibiotic resistance."
            ],
            "text/plain": [
              "<IPython.core.display.Markdown object>"
            ]
          },
          "execution_count": 10,
          "metadata": {},
          "output_type": "execute_result"
        }
      ],
      "source": [
        "params = set_openAI_params(temperature=0.7)\n",
        "prompt = \"\"\"Antibiotics are a type of medication used to treat bacterial infections. They work by either killing the bacteria or preventing them from reproducing, allowing the body's immune system to fight off the infection. Antibiotics are usually taken orally in the form of pills, capsules, or liquid solutions, or sometimes administered intravenously. They are not effective against viral infections, and using them inappropriately can lead to antibiotic resistance. \n",
        "\n",
        "Explain the above in one sentence:\"\"\"\n",
        "\n",
        "messages = [\n",
        "    {\n",
        "        \"role\": \"user\",\n",
        "        \"content\": prompt\n",
        "    }\n",
        "]\n",
        "\n",
        "response = get_completion(params, messages)\n",
        "IPython.display.Markdown(response.choices[0].message.content)"
      ]
    },
    {
      "cell_type": "code",
      "execution_count": 11,
      "metadata": {
        "gather": {
          "logged": 1709947938695
        },
        "jupyter": {
          "outputs_hidden": false,
          "source_hidden": false
        },
        "nteract": {
          "transient": {
            "deleting": false
          }
        }
      },
      "outputs": [
        {
          "data": {
            "text/markdown": [
              "I am five years old."
            ],
            "text/plain": [
              "<IPython.core.display.Markdown object>"
            ]
          },
          "execution_count": 11,
          "metadata": {},
          "output_type": "execute_result"
        }
      ],
      "source": [
        "params = set_openAI_params(temperature=0.7)\n",
        "prompt = \"\"\" I am 5. \n",
        "Explain the above in one sentence:\"\"\"\n",
        "\n",
        "messages = [\n",
        "    {\n",
        "        \"role\": \"user\",\n",
        "        \"content\": prompt\n",
        "    }\n",
        "]\n",
        "\n",
        "response = get_completion(params, messages)\n",
        "IPython.display.Markdown(response.choices[0].message.content)"
      ]
    },
    {
      "attachments": {},
      "cell_type": "markdown",
      "metadata": {},
      "source": [
        "### 1.2 Question Answering"
      ]
    },
    {
      "cell_type": "code",
      "execution_count": 12,
      "metadata": {
        "gather": {
          "logged": 1709948022497
        }
      },
      "outputs": [
        {
          "data": {
            "text/markdown": [
              "Mice."
            ],
            "text/plain": [
              "<IPython.core.display.Markdown object>"
            ]
          },
          "execution_count": 12,
          "metadata": {},
          "output_type": "execute_result"
        }
      ],
      "source": [
        "prompt = \"\"\"Answer the question based on the context below. Keep the answer short and concise. Respond \"Unsure about answer\" if not sure about the answer.\n",
        "\n",
        "Context: Teplizumab traces its roots to a New Jersey drug company called Ortho Pharmaceutical. There, scientists generated an early version of the antibody, dubbed OKT3. Originally sourced from mice, the molecule was able to bind to the surface of T cells and limit their cell-killing potential. In 1986, it was approved to help prevent organ rejection after kidney transplants, making it the first therapeutic antibody allowed for human use.\n",
        "\n",
        "Question: What was OKT3 originally sourced from?\n",
        "\n",
        "Answer:\"\"\"\n",
        "\n",
        "messages = [\n",
        "    {\n",
        "        \"role\": \"user\",\n",
        "        \"content\": prompt\n",
        "    }\n",
        "]\n",
        "\n",
        "response = get_completion(params, messages)\n",
        "IPython.display.Markdown(response.choices[0].message.content)\n"
      ]
    },
    {
      "attachments": {},
      "cell_type": "markdown",
      "metadata": {},
      "source": [
        "### 1.3 Text Classification"
      ]
    },
    {
      "cell_type": "code",
      "execution_count": 13,
      "metadata": {
        "gather": {
          "logged": 1709948049717
        }
      },
      "outputs": [
        {
          "data": {
            "text/markdown": [
              "Neutral"
            ],
            "text/plain": [
              "<IPython.core.display.Markdown object>"
            ]
          },
          "execution_count": 13,
          "metadata": {},
          "output_type": "execute_result"
        }
      ],
      "source": [
        "prompt = \"\"\"Classify the text into neutral, negative or positive.\n",
        "\n",
        "Text: I think the food was okay.\n",
        "\n",
        "Sentiment:\"\"\"\n",
        "\n",
        "messages = [\n",
        "    {\n",
        "        \"role\": \"user\",\n",
        "        \"content\": prompt\n",
        "    }\n",
        "]\n",
        "\n",
        "response = get_completion(params, messages)\n",
        "IPython.display.Markdown(response.choices[0].message.content)"
      ]
    },
    {
      "attachments": {},
      "cell_type": "markdown",
      "metadata": {},
      "source": [
        "Below is modification to same prompt to instruct the model to provide an explanation to the answer selected. "
      ]
    },
    {
      "cell_type": "code",
      "execution_count": 14,
      "metadata": {
        "gather": {
          "logged": 1709948111100
        },
        "jupyter": {
          "outputs_hidden": false,
          "source_hidden": false
        },
        "nteract": {
          "transient": {
            "deleting": false
          }
        }
      },
      "outputs": [
        {
          "data": {
            "text/markdown": [
              "Sentiment: Neutral\n",
              "\n",
              "Explanation: The statement \"I think the food was okay\" expresses a neutral sentiment. The use of \"okay\" suggests that the food was neither particularly good nor particularly bad, indicating a neutral opinion."
            ],
            "text/plain": [
              "<IPython.core.display.Markdown object>"
            ]
          },
          "execution_count": 14,
          "metadata": {},
          "output_type": "execute_result"
        }
      ],
      "source": [
        "prompt = \"\"\"Classify the text into neutral, negative or positive.\n",
        "\n",
        "Text: I think the food was okay.\n",
        "\n",
        "Provide sentiment and explaination about the same in details\"\"\"\n",
        "\n",
        "messages = [\n",
        "    {\n",
        "        \"role\": \"user\",\n",
        "        \"content\": prompt\n",
        "    }\n",
        "]\n",
        "\n",
        "response = get_completion(params, messages)\n",
        "IPython.display.Markdown(response.choices[0].message.content)"
      ]
    },
    {
      "attachments": {},
      "cell_type": "markdown",
      "metadata": {},
      "source": [
        "### 1.4 Role Playing"
      ]
    },
    {
      "cell_type": "code",
      "execution_count": 15,
      "metadata": {
        "gather": {
          "logged": 1709948473804
        }
      },
      "outputs": [
        {
          "data": {
            "text/markdown": [
              "Black holes are formed when a massive star collapses under its own gravity, causing its core to condense into a singular point of infinite density called a singularity. This process is known as gravitational collapse. As the star's core collapses, it releases a tremendous amount of energy, leading to the formation of a black hole with a strong gravitational pull that not even light can escape from. This phenomenon is a key aspect of astrophysical research and has profound implications for our understanding of the universe."
            ],
            "text/plain": [
              "<IPython.core.display.Markdown object>"
            ]
          },
          "execution_count": 15,
          "metadata": {},
          "output_type": "execute_result"
        }
      ],
      "source": [
        "prompt = \"\"\"The following is a conversation with an AI research assistant. The assistant tone is technical and scientific.\n",
        "\n",
        "Human: Hello, who are you?\n",
        "AI: Greeting! I am an AI research assistant. How can I help you today?\n",
        "Human: Can you tell me about the creation of blackholes?\n",
        "AI:\"\"\"\n",
        "\n",
        "messages = [\n",
        "    {\n",
        "        \"role\": \"user\",\n",
        "        \"content\": prompt\n",
        "    }\n",
        "]\n",
        "\n",
        "\n",
        "response = get_completion(params, messages)\n",
        "IPython.display.Markdown(response.choices[0].message.content)"
      ]
    },
    {
      "attachments": {},
      "cell_type": "markdown",
      "metadata": {},
      "source": [
        "Role Playing example of using Open AI model as customer support agent. Provide necessary instructions about personality of the AI support agent"
      ]
    },
    {
      "cell_type": "code",
      "execution_count": 16,
      "metadata": {
        "gather": {
          "logged": 1709948523881
        },
        "jupyter": {
          "outputs_hidden": false,
          "source_hidden": false
        },
        "nteract": {
          "transient": {
            "deleting": false
          }
        }
      },
      "outputs": [
        {
          "data": {
            "text/markdown": [
              "Performing a factory reset on a device varies depending on the type of device you have. Here are some general steps for common devices:\n",
              "\n",
              "1. Android phone or tablet: Go to Settings > System > Reset options > Erase all data (factory reset). Follow the on-screen instructions to confirm the reset.\n",
              "\n",
              "2. iPhone or iPad: Go to Settings > General > Reset > Erase All Content and Settings. Follow the on-screen instructions to confirm the reset.\n",
              "\n",
              "3. Windows PC: Go to Settings > Update & Security > Recovery > Reset this PC. Follow the on-screen instructions to reset your PC.\n",
              "\n",
              "4. Mac computer: Restart your Mac and hold down Command + R until the Apple logo appears. Select Disk Utility > Continue > Erase. After erasing, select Reinstall macOS from the Utilities window.\n",
              "\n",
              "It's important to note that performing a factory reset will erase all data on your device, so be sure to back up any important information before proceeding."
            ],
            "text/plain": [
              "<IPython.core.display.Markdown object>"
            ]
          },
          "execution_count": 16,
          "metadata": {},
          "output_type": "execute_result"
        }
      ],
      "source": [
        "prompt = \"\"\"You are an Xbox customer support agent whose primary goal is to help users with issues they are experiencing with their Xbox devices.\n",
        "You are friendly and concise. You only provide factual answers to queries, and do not provide answers that are not related to Xbox.\"\"\"\n",
        "\n",
        "messages = [\n",
        "    {\n",
        "        \"role\": \"system\",\n",
        "        \"content\": prompt\n",
        "    }\n",
        "]\n",
        "\n",
        "messages = [\n",
        "    {\n",
        "        \"role\": \"user\",\n",
        "        \"content\": \"How do I perform factory reset? \"\n",
        "    }\n",
        "\n",
        "]\n",
        "\n",
        "response = get_completion(params, messages)\n",
        "IPython.display.Markdown(response.choices[0].message.content)"
      ]
    },
    {
      "attachments": {},
      "cell_type": "markdown",
      "metadata": {},
      "source": [
        "### 1.5 Code Generation"
      ]
    },
    {
      "cell_type": "code",
      "execution_count": 17,
      "metadata": {
        "gather": {
          "logged": 1709078472549
        }
      },
      "outputs": [
        {
          "data": {
            "text/markdown": [
              "SELECT students.StudentId, students.StudentName\n",
              "FROM students\n",
              "JOIN departments ON students.DepartmentId = departments.DepartmentId\n",
              "WHERE departments.DepartmentName = 'Computer Science'"
            ],
            "text/plain": [
              "<IPython.core.display.Markdown object>"
            ]
          },
          "execution_count": 17,
          "metadata": {},
          "output_type": "execute_result"
        }
      ],
      "source": [
        "prompt = \"\\\"\\\"\\\"\\nTable departments, columns = [DepartmentId, DepartmentName]\\nTable students, columns = [DepartmentId, StudentId, StudentName]\\nCreate a MySQL query for all students in the Computer Science Department\\n\\\"\\\"\\\"\"\n",
        "\n",
        "messages = [\n",
        "    {\n",
        "        \"role\": \"user\",\n",
        "        \"content\": prompt\n",
        "    }\n",
        "]\n",
        "\n",
        "response = get_completion(params, messages)\n",
        "IPython.display.Markdown(response.choices[0].message.content)\n"
      ]
    },
    {
      "attachments": {},
      "cell_type": "markdown",
      "metadata": {},
      "source": [
        "### 1.6 Reasoning"
      ]
    },
    {
      "cell_type": "code",
      "execution_count": 18,
      "metadata": {
        "gather": {
          "logged": 1709078490501
        }
      },
      "outputs": [
        {
          "data": {
            "text/markdown": [
              "The odd numbers in the given group are 15, 5, 13, and 7. \n",
              "\n",
              "Adding them together: \n",
              "15 + 5 + 13 + 7 = 40\n",
              "\n",
              "Since 40 is an even number, the result of adding the odd numbers is even."
            ],
            "text/plain": [
              "<IPython.core.display.Markdown object>"
            ]
          },
          "execution_count": 18,
          "metadata": {},
          "output_type": "execute_result"
        }
      ],
      "source": [
        "prompt = \"\"\"The odd numbers in this group add up to an even number: 15, 32, 5, 13, 82, 7, 1. \n",
        "\n",
        "Solve by breaking the problem into steps. First, identify the odd numbers, add them, and indicate whether the result is odd or even.\"\"\"\n",
        "\n",
        "messages = [\n",
        "    {\n",
        "        \"role\": \"user\",\n",
        "        \"content\": prompt\n",
        "    }\n",
        "]\n",
        "\n",
        "response = get_completion(params, messages)\n",
        "IPython.display.Markdown(response.choices[0].message.content)"
      ]
    },
    {
      "attachments": {},
      "cell_type": "markdown",
      "metadata": {},
      "source": [
        "Exercise: Improve the prompt to have a better structure and output format."
      ]
    },
    {
      "attachments": {},
      "cell_type": "markdown",
      "metadata": {},
      "source": [
        "## 2. Advanced Prompting Techniques\n",
        "\n",
        "Objectives:\n",
        "\n",
        "- Cover more advanced techniques for prompting: few-shot, chain-of-thoughts,..."
      ]
    },
    {
      "attachments": {},
      "cell_type": "markdown",
      "metadata": {},
      "source": [
        "### 2.2 Few-shot prompts"
      ]
    },
    {
      "cell_type": "code",
      "execution_count": 19,
      "metadata": {
        "gather": {
          "logged": 1709078503722
        }
      },
      "outputs": [
        {
          "data": {
            "text/markdown": [
              "The answer is False."
            ],
            "text/plain": [
              "<IPython.core.display.Markdown object>"
            ]
          },
          "execution_count": 19,
          "metadata": {},
          "output_type": "execute_result"
        }
      ],
      "source": [
        "prompt = \"\"\"The odd numbers in this group add up to an even number: 4, 8, 9, 15, 12, 2, 1.\n",
        "A: The answer is False.\n",
        "\n",
        "The odd numbers in this group add up to an even number: 17,  10, 19, 4, 8, 12, 24.\n",
        "A: The answer is True.\n",
        "\n",
        "The odd numbers in this group add up to an even number: 16,  11, 14, 4, 8, 13, 24.\n",
        "A: The answer is True.\n",
        "\n",
        "The odd numbers in this group add up to an even number: 17,  9, 10, 12, 13, 4, 2.\n",
        "A: The answer is False.\n",
        "\n",
        "The odd numbers in this group add up to an even number: 15, 32, 5, 13, 82, 7, 1. \n",
        "A:\"\"\"\n",
        "\n",
        "messages = [\n",
        "    {\n",
        "        \"role\": \"user\",\n",
        "        \"content\": prompt\n",
        "    }\n",
        "]\n",
        "\n",
        "response = get_completion(params, messages)\n",
        "IPython.display.Markdown(response.choices[0].message.content)"
      ]
    },
    {
      "attachments": {},
      "cell_type": "markdown",
      "metadata": {},
      "source": [
        "### 2.3 Chain-of-Thought (CoT) Prompting"
      ]
    },
    {
      "cell_type": "code",
      "execution_count": 20,
      "metadata": {
        "gather": {
          "logged": 1709078520358
        }
      },
      "outputs": [
        {
          "data": {
            "text/markdown": [
              "Adding all the odd numbers (15, 5, 13, 7, 1) gives 41. The answer is False."
            ],
            "text/plain": [
              "<IPython.core.display.Markdown object>"
            ]
          },
          "execution_count": 20,
          "metadata": {},
          "output_type": "execute_result"
        }
      ],
      "source": [
        "prompt = \"\"\"The odd numbers in this group add up to an even number: 4, 8, 9, 15, 12, 2, 1.\n",
        "A: Adding all the odd numbers (9, 15, 1) gives 25. The answer is False.\n",
        "\n",
        "The odd numbers in this group add up to an even number: 15, 32, 5, 13, 82, 7, 1. \n",
        "A:\"\"\"\n",
        "\n",
        "messages = [\n",
        "    {\n",
        "        \"role\": \"user\",\n",
        "        \"content\": prompt\n",
        "    }\n",
        "]\n",
        "\n",
        "response = get_completion(params, messages)\n",
        "IPython.display.Markdown(response.choices[0].message.content)"
      ]
    },
    {
      "attachments": {},
      "cell_type": "markdown",
      "metadata": {},
      "source": [
        "### 2.4 Zero-shot CoT"
      ]
    },
    {
      "cell_type": "code",
      "execution_count": 21,
      "metadata": {
        "gather": {
          "logged": 1709078533588
        }
      },
      "outputs": [
        {
          "data": {
            "text/markdown": [
              "Step 1: Bought 10 apples\n",
              "Step 2: Gave 2 apples to neighbor (10 - 2 = 8)\n",
              "Step 3: Gave 2 apples to repairman (8 - 2 = 6)\n",
              "Step 4: Bought 5 more apples (6 + 5 = 11)\n",
              "Step 5: Ate 1 apple (11 - 1 = 10)\n",
              "\n",
              "So, you remained with 10 apples."
            ],
            "text/plain": [
              "<IPython.core.display.Markdown object>"
            ]
          },
          "execution_count": 21,
          "metadata": {},
          "output_type": "execute_result"
        }
      ],
      "source": [
        "prompt = \"\"\"I went to the market and bought 10 apples. I gave 2 apples to the neighbor and 2 to the repairman. I then went and bought 5 more apples and ate 1. How many apples did I remain with?\n",
        "\n",
        "Let's think step by step.\"\"\"\n",
        "\n",
        "messages = [\n",
        "    {\n",
        "        \"role\": \"user\",\n",
        "        \"content\": prompt\n",
        "    }\n",
        "]\n",
        "\n",
        "response = get_completion(params, messages)\n",
        "IPython.display.Markdown(response.choices[0].message.content)"
      ]
    },
    {
      "attachments": {},
      "cell_type": "markdown",
      "metadata": {},
      "source": [
        "### 2.5 Self-Consistency\n",
        "self-consistency aims \"to replace the naive greedy decoding used in chain-of-thought prompting\". The idea is to sample multiple, diverse reasoning paths through few-shot CoT, and use the generations to select the most consistent answer. This helps to boost the performance of CoT prompting on tasks involving arithmetic and commonsense reasoning.\n"
      ]
    },
    {
      "attachments": {},
      "cell_type": "markdown",
      "metadata": {},
      "source": [
        "---"
      ]
    },
    {
      "cell_type": "code",
      "execution_count": 22,
      "metadata": {
        "gather": {
          "logged": 1709078877319
        },
        "jupyter": {
          "outputs_hidden": false,
          "source_hidden": false
        },
        "nteract": {
          "transient": {
            "deleting": false
          }
        }
      },
      "outputs": [
        {
          "data": {
            "text/markdown": [
              "Your sister is 68 years old."
            ],
            "text/plain": [
              "<IPython.core.display.Markdown object>"
            ]
          },
          "execution_count": 22,
          "metadata": {},
          "output_type": "execute_result"
        }
      ],
      "source": [
        "prompt = \"\"\"When I was 6 my sister was half my age.Now, I am 70 how old is my sister?\"\"\"\n",
        "\n",
        "messages = [\n",
        "    {\n",
        "        \"role\": \"user\",\n",
        "        \"content\": prompt\n",
        "    }\n",
        "]\n",
        "\n",
        "response = get_completion(params, messages)\n",
        "IPython.display.Markdown(response.choices[0].message.content)"
      ]
    },
    {
      "cell_type": "markdown",
      "metadata": {
        "nteract": {
          "transient": {
            "deleting": false
          }
        }
      },
      "source": [
        "above answer is wrong, in such scenarios we need to use CoT with Fewshots (aka Self consistency). See below"
      ]
    },
    {
      "cell_type": "code",
      "execution_count": 23,
      "metadata": {
        "gather": {
          "logged": 1709078971743
        },
        "jupyter": {
          "outputs_hidden": false,
          "source_hidden": false
        },
        "nteract": {
          "transient": {
            "deleting": false
          }
        }
      },
      "outputs": [
        {
          "data": {
            "text/markdown": [
              "When you were 6, your sister was half your age, so she was 3 years younger than you. Now that you are 70, your sister is 70 - 3 = 67 years old."
            ],
            "text/plain": [
              "<IPython.core.display.Markdown object>"
            ]
          },
          "execution_count": 23,
          "metadata": {},
          "output_type": "execute_result"
        }
      ],
      "source": [
        "prompt = \"\"\"Q: There are 15 trees in the grove. Grove workers will plant trees in the grove today. After they are done,\n",
        "there will be 21 trees. How many trees did the grove workers plant today?\n",
        "A: We start with 15 trees. Later we have 21 trees. The difference must be the number of trees they planted.\n",
        "So, they must have planted 21 - 15 = 6 trees. The answer is 6.\n",
        "\n",
        "Q: If there are 3 cars in the parking lot and 2 more cars arrive, how many cars are in the parking lot?\n",
        "A: There are 3 cars in the parking lot already. 2 more arrive. Now there are 3 + 2 = 5 cars. The answer is 5.\n",
        "\n",
        "Q: Leah had 32 chocolates and her sister had 42. If they ate 35, how many pieces do they have left in total?\n",
        "A: Leah had 32 chocolates and Leah’s sister had 42. That means there were originally 32 + 42 = 74\n",
        "chocolates. 35 have been eaten. So in total they still have 74 - 35 = 39 chocolates. The answer is 39.\n",
        "\n",
        "Q: Jason had 20 lollipops. He gave Denny some lollipops. Now Jason has 12 lollipops. How many lollipops\n",
        "did Jason give to Denny?\n",
        "A: Jason had 20 lollipops. Since he only has 12 now, he must have given the rest to Denny. The number of\n",
        "lollipops he has given to Denny must have been 20 - 12 = 8 lollipops. The answer is 8.\n",
        "\n",
        "Q: Shawn has five toys. For Christmas, he got two toys each from his mom and dad. How many toys does\n",
        "he have now?\n",
        "A: He has 5 toys. He got 2 from mom, so after that he has 5 + 2 = 7 toys. Then he got 2 more from dad, so\n",
        "in total he has 7 + 2 = 9 toys. The answer is 9.\n",
        "\n",
        "Q: There were nine computers in the server room. Five more computers were installed each day, from\n",
        "monday to thursday. How many computers are now in the server room?\n",
        "A: There are 4 days from monday to thursday. 5 computers were added each day. That means in total 4 * 5 =\n",
        "20 computers were added. There were 9 computers in the beginning, so now there are 9 + 20 = 29 computers.\n",
        "The answer is 29.\n",
        "\n",
        "Q: Michael had 58 golf balls. On tuesday, he lost 23 golf balls. On wednesday, he lost 2 more. How many\n",
        "golf balls did he have at the end of wednesday?\n",
        "A: Michael initially had 58 balls. He lost 23 on Tuesday, so after that he has 58 - 23 = 35 balls. On\n",
        "Wednesday he lost 2 more so now he has 35 - 2 = 33 balls. The answer is 33.\n",
        "\n",
        "Q: Olivia has $23. She bought five bagels for $3 each. How much money does she have left?\n",
        "A: She bought 5 bagels for $3 each. This means she spent 5\n",
        "\n",
        "Q: When I was 6 my sister was half my age. Now I’m 70 how old is my sister?\n",
        "A:\"\"\"\n",
        "\n",
        "messages = [\n",
        "    {\n",
        "        \"role\": \"user\",\n",
        "        \"content\": prompt\n",
        "    }\n",
        "]\n",
        "\n",
        "response = get_completion(params, messages)\n",
        "IPython.display.Markdown(response.choices[0].message.content)"
      ]
    },
    {
      "cell_type": "markdown",
      "metadata": {
        "nteract": {
          "transient": {
            "deleting": false
          }
        }
      },
      "source": [
        "### 2.6 Generate Knowledge Prompting\n",
        "\n",
        "LLMs continue to be improved and one popular technique includes the ability to incorporate knowledge or information to help the model make more accurate predictions.\n",
        "\n",
        "Using a similar idea, can the model also be used to generate knowledge before making a prediction? That's what is attempted in the paper by Liu et al. 2022 -- generate knowledge to be used as part of the prompt. In particular, how helpful is this for tasks such as commonsense reasoning?"
      ]
    },
    {
      "cell_type": "code",
      "execution_count": 24,
      "metadata": {
        "gather": {
          "logged": 1709079066059
        },
        "jupyter": {
          "outputs_hidden": false,
          "source_hidden": false
        },
        "nteract": {
          "transient": {
            "deleting": false
          }
        }
      },
      "outputs": [
        {
          "data": {
            "text/markdown": [
              "Yes, in golf, the objective is to complete the course with the fewest strokes possible, and the player with the lowest score wins. So, in a way, the goal is to have a lower point total than others."
            ],
            "text/plain": [
              "<IPython.core.display.Markdown object>"
            ]
          },
          "execution_count": 24,
          "metadata": {},
          "output_type": "execute_result"
        }
      ],
      "source": [
        "prompt = \"\"\"Part of golf is trying to get a higher point total than others. Yes or No?\"\"\"\n",
        "\n",
        "messages = [\n",
        "    {\n",
        "        \"role\": \"user\",\n",
        "        \"content\": prompt\n",
        "    }\n",
        "]\n",
        "\n",
        "response = get_completion(params, messages)\n",
        "IPython.display.Markdown(response.choices[0].message.content)"
      ]
    },
    {
      "cell_type": "markdown",
      "metadata": {
        "nteract": {
          "transient": {
            "deleting": false
          }
        }
      },
      "source": [
        "This type of mistake reveals the limitations of LLMs to perform tasks that require more knowledge about the world. How do we improve this with knowledge generation?\n",
        "\n",
        "First, we generate a few \"knowledges\""
      ]
    },
    {
      "cell_type": "code",
      "execution_count": 25,
      "metadata": {
        "gather": {
          "logged": 1709079128951
        },
        "jupyter": {
          "outputs_hidden": false,
          "source_hidden": false
        },
        "nteract": {
          "transient": {
            "deleting": false
          }
        }
      },
      "outputs": [
        {
          "data": {
            "text/markdown": [
              "No, the objective of golf is not to get a higher point total than others. The objective of golf is to play a set of holes in the least number of strokes. Each stroke is counted as one point, and the total number of strokes is used to determine the winner of the game. So, the goal is to have the lowest score, not the highest."
            ],
            "text/plain": [
              "<IPython.core.display.Markdown object>"
            ]
          },
          "execution_count": 25,
          "metadata": {},
          "output_type": "execute_result"
        }
      ],
      "source": [
        "prompt = \"\"\"Question: Part of golf is trying to get a higher point total than others. Yes or No?\n",
        "\n",
        "Knowledge: The objective of golf is to play a set of holes in the least number of strokes. A round of golf typically consists of 18 holes. Each hole is played once in the round on a standard golf course. Each stroke is counted as one point, and the total number of strokes is used to determine the winner of the game.\n",
        "\n",
        "Explain and Answer: \"\"\"\n",
        "\n",
        "messages = [\n",
        "    {\n",
        "        \"role\": \"user\",\n",
        "        \"content\": prompt\n",
        "    }\n",
        "]\n",
        "\n",
        "response = get_completion(params, messages)\n",
        "IPython.display.Markdown(response.choices[0].message.content)"
      ]
    },
    {
      "cell_type": "markdown",
      "metadata": {
        "nteract": {
          "transient": {
            "deleting": false
          }
        }
      },
      "source": [
        "Thus above approach of feeding knowledge works better in such scenarios."
      ]
    },
    {
      "cell_type": "markdown",
      "metadata": {
        "nteract": {
          "transient": {
            "deleting": false
          }
        }
      },
      "source": [
        "### 2.7 Prompt Chaining\n",
        "\n",
        "Prompt chaining is the approach where you create multiple prompts. Assume you have 2 (or more) large documents and to summarize all documents. In this case due to token limitations you wont be able to send all documents through one single prompt to LLM and ask for summarization. You will have to build first prompt to get summary from document-1. Second prompt to generate summary from document-2 and then third prompt which will include prompt 1 and prompt 2 response and summarize both."
      ]
    },
    {
      "cell_type": "code",
      "execution_count": 26,
      "metadata": {
        "gather": {
          "logged": 1709080031864
        },
        "jupyter": {
          "outputs_hidden": false,
          "source_hidden": false
        },
        "nteract": {
          "transient": {
            "deleting": false
          }
        }
      },
      "outputs": [
        {
          "data": {
            "text/markdown": [
              "Azure SQL Database is a fully managed service that offers predictable performance, dynamic scaling, and extensive monitoring and alerting capabilities, with two different purchasing models and multiple service tiers to choose from, making it an ideal choice for a variety of modern cloud applications."
            ],
            "text/plain": [
              "<IPython.core.display.Markdown object>"
            ]
          },
          "execution_count": 26,
          "metadata": {},
          "output_type": "execute_result"
        }
      ],
      "source": [
        "prompt1 = \"\"\"Summarize below document in one sentence.\n",
        "Azure SQL Database is always running on the latest stable version of the SQL Server database engine and patched OS with 99.99% availability. PaaS capabilities built into Azure SQL Database enable you to focus on the domain-specific database administration and optimization activities that are critical for your business. With Azure SQL Database, you can create a highly available and high-performance data storage layer for the applications and solutions in Azure. SQL Database can be the right choice for a variety of modern cloud applications because it enables you to process both relational data and nonrelational structures, such as graphs, JSON, spatial, and XML.\n",
        "\n",
        "Azure SQL Database is based on the latest stable version of the Microsoft SQL Server database engine. You can use advanced query processing features, such as high-performance in-memory technologies and intelligent query processing. In fact, the newest capabilities of SQL Server are released first to Azure SQL Database, and then to SQL Server itself. You get the newest SQL Server capabilities with no overhead for patching or upgrading, tested across millions of databases.\n",
        "\n",
        "SQL Database enables you to easily define and scale performance within two different purchasing models: a vCore-based purchasing model and a DTU-based purchasing model. SQL Database is a fully managed service that has built-in high availability, backups, and other common maintenance operations. Microsoft handles all patching and updating of the SQL and operating system code. You don't have to manage the underlying infrastructure.\n",
        "\n",
        "If you're new to Azure SQL Database, check out the Azure SQL Database Overview video from our in-depth Azure SQL video series.\n",
        "Purchasing models\n",
        "SQL Database offers the following purchasing models:\n",
        "\n",
        "The vCore-based purchasing model lets you choose the number of vCores, the amount of memory, and the amount and speed of storage. The vCore-based purchasing model also allows you to use Azure Hybrid Benefit for SQL Server to gain cost savings by leveraging your existing SQL Server licenses.\n",
        "The DTU-based purchasing model offers a blend of compute, memory, and I/O resources in three service tiers, to support light to heavy database workloads. Compute sizes within each tier provide a different mix of these resources, to which you can add additional storage resources.\n",
        "Service tiers\n",
        "The vCore-based purchasing model offers three service tiers:\n",
        "\n",
        "The General Purpose service tier is designed for common workloads. It offers budget-oriented balanced compute and storage options.\n",
        "The Business Critical service tier is designed for OLTP applications with high transaction rates and low latency I/O requirements. It offers the highest resilience to failures by using several isolated replicas.\n",
        "The Hyperscale service tier is designed for most business workloads. Hyperscale provides great flexibility and high performance with independently scalable compute and storage resources. It offers higher resilience to failures by allowing configuration of more than one isolated database replica.\n",
        "The DTU-based purchasing model offers two service tiers:\n",
        "\n",
        "The Standard service tier is designed for common workloads. It offers budget-oriented balanced compute and storage options.\n",
        "The Premium service tier is designed for OLTP applications with high transaction rates and low latency I/O requirements. It offers the highest resilience to failures by using several isolated replicas.\n",
        "Compute tiers\n",
        "The vCore-based purchasing model provides two different compute tiers for Azure SQL Database - the provisioned compute tier, and the serverless compute tier. The DTU-based purchasing model provides just the provisioned compute tier.\n",
        "\n",
        "Provisioned compute tier: provides a specific amount of compute resource that is continuously provisioned independent of workload activity, and bills for the amount of compute provisioned at a fixed price per hour.\n",
        "Serverless compute tier: automatically scales compute resources based on workload activity and bills for the amount of compute used, per second. The serverless compute tier is generally available in the General Purpose service tier and in the Hyperscale service tier.\n",
        "Deployment models\n",
        "Azure SQL Database provides the following deployment options for a database:\n",
        "\n",
        "Single database represents a fully managed, isolated database. You might use this option if you have modern cloud applications and microservices that need a single reliable data source. A single database is similar to a contained database in the SQL Server database engine.\n",
        "Elastic pool is a collection of single databases with a shared set of resources, such as CPU or memory. Single databases can be moved into and out of an elastic pool.\n",
        " Important\n",
        "\n",
        "To understand the feature differences between SQL Database, SQL Server, and Azure SQL Managed Instance, as well as the differences among different Azure SQL Database options, see SQL Database features.\n",
        "\n",
        "SQL Database delivers predictable performance with multiple resource types, service tiers, and compute sizes. It provides dynamic scaling with no downtime, built-in intelligent optimization, global scalability and availability, and advanced security options. These capabilities allow you to focus on rapid app development and accelerating your time-to-market, rather than on managing virtual machines and infrastructure. SQL Database is currently in 38 datacenters around the world, so you can run your database in a datacenter near you.\n",
        "\n",
        "Scalable performance and pools\n",
        "You can define the amount of resources assigned.\n",
        "\n",
        "With single databases, each database is isolated from others and is portable. Each has its own guaranteed amount of compute, memory, and storage resources. The amount of the resources assigned to the database is dedicated to that database, and isn't shared with other databases in Azure. You can dynamically scale single database resources up and down. The single database option provides different compute, memory, and storage resources for different needs. For example, you can get 1 to 128 vCores, or 32 GB to 4 TB. The Hyperscale service tier enables you to scale to 100 TB, with fast backup and restore capabilities.\n",
        "With elastic pools, you can assign resources that are shared by all databases in the pool. You can create a new database, or move the existing single databases into a resource pool to maximize the use of resources and save money. This option also gives you the ability to dynamically scale elastic pool resources up and down.\n",
        " Note\n",
        "\n",
        "Elastic pools for Hyperscale are currently in preview.\n",
        "\n",
        "You can build your first app on a small, single database at a low cost per month in the General Purpose service tier. You can then change its service tier manually or programmatically at any time to the Business Critical or Hyperscale service tier, to meet the needs of your solution. You can adjust performance without downtime to your app or to your customers. Dynamic scaling enables your database to transparently respond to rapidly changing resource requirements. You pay for only the resources that you need when you need them.\n",
        "\n",
        "Dynamic scaling is different from autoscaling. Autoscaling is when a service scales automatically based on criteria, whereas dynamic scaling allows for manual scaling without downtime. The single database option supports manual dynamic scaling, but not autoscale. For a more automatic experience, consider these alternatives:\n",
        "\n",
        "Use the serverless tier, which does provide autoscaling.\n",
        "Use scripts to schedule or automate scalability for a single database. For an example, see Use PowerShell to monitor and scale a single database.\n",
        "Use elastic pools, which allow databases to share resources in a pool based on individual database needs. Elastic pools can also be scaled with custom scripts, allowing you to schedule or automate scalability.\n",
        "Elastic pools to maximize resource utilization\n",
        "For many businesses and applications, being able to create single databases and dial performance up or down on demand is enough, especially if usage patterns are relatively predictable. Unpredictable usage patterns can make it hard to manage costs and your business model. Elastic pools are designed to solve this problem. You allocate performance resources to a pool rather than an individual database. You pay for the collective performance resources of the pool rather than for single database performance.\n",
        "\n",
        "Graphic that shows elastic pools in basic, standard, and premium editions\n",
        "\n",
        "With elastic pools, you don't need to focus on dialing database performance up and down as demand for resources fluctuates. The pooled databases consume the performance resources of the elastic pool as needed. Pooled databases consume but don't exceed the limits of the pool, so your cost remains predictable even if individual database usage doesn't.\n",
        "\n",
        "You can add and remove databases to the pool, scaling your app from a handful of databases to thousands, all within a budget that you control. You can also control the minimum and maximum resources available to databases in the pool, to ensure that no database in the pool uses all the pool resources, and that every pooled database has a guaranteed minimum amount of resources. To learn more about design patterns for software as a service (SaaS) applications that use elastic pools, see Design patterns for multitenant SaaS applications with SQL Database.\n",
        "\n",
        "Scripts can help with monitoring and scaling elastic pools. For an example, see Use PowerShell to monitor and scale an elastic pool in Azure SQL Database.\n",
        "\n",
        "Blend single databases with pooled databases\n",
        "You can blend single databases with elastic pools, and change the service tiers of single databases and elastic pools to adapt to your situation. You can also mix and match other Azure services with SQL Database to meet your unique app design needs, drive cost and resource efficiencies, and unlock new business opportunities.\n",
        "\n",
        "Extensive monitoring and alerting capabilities\n",
        "Azure SQL Database provides advanced monitoring and troubleshooting features that help you get deeper insights into workload characteristics. These features and tools include:\n",
        "\n",
        "The built-in monitoring capabilities provided by the latest version of the SQL Server database engine. They enable you to find real-time performance insights.\n",
        "PaaS monitoring capabilities provided by Azure that enable you to monitor and troubleshoot a large number of database instances.\n",
        "Query Store, a built-in SQL Server monitoring feature, records the performance of your queries in real time, and enables you to identify the potential performance issues and the top resource consumers. Automatic tuning and recommendations provide advice regarding the queries with the regressed performance and missing or duplicated indexes. Automatic tuning in SQL Database enables you to either manually apply the scripts that can fix the issues, or let SQL Database apply the fix. SQL Database can also test and verify that the fix provides some benefit, and retain or revert the change depending on the outcome. In addition to Query Store and automatic tuning capabilities, you can use standard DMVs and XEvents to monitor the workload performance.\n",
        "\n",
        "You can efficiently monitor the status of thousands of databases by using the built-in performance monitoring and alerting features of SQL Database. Using these tools, you can quickly assess the impact of scaling up or down, based on your current or projected performance needs. Additionally, SQL Database can emit metrics and resource logs for easier monitoring. You can configure SQL Database to store resource usage, workers and sessions, and connectivity into one of these Azure resources:\n",
        "\n",
        "Azure Storage: For archiving vast amounts of telemetry for a small price.\n",
        "Azure Event Hubs: For integrating SQL Database telemetry with your custom monitoring solution or hot pipelines.\n",
        "Azure Monitor logs: For a built-in monitoring solution with reporting, alerting, and mitigating capabilities.\n",
        "\"\"\"\n",
        "\n",
        "messages = [\n",
        "    {\n",
        "        \"role\": \"user\",\n",
        "        \"content\": prompt1\n",
        "    }\n",
        "]\n",
        "\n",
        "promp1_response = get_completion(params, messages)\n",
        "IPython.display.Markdown(promp1_response.choices[0].message.content)"
      ]
    },
    {
      "cell_type": "code",
      "execution_count": 27,
      "metadata": {},
      "outputs": [
        {
          "data": {
            "text/markdown": [
              "The document provides an overview of Azure SQL Managed Instance, a fully managed platform as a service (PaaS) database engine that handles most database management functions such as upgrading, patching, backups, and monitoring without user involvement, and also offers near 100% feature compatibility with SQL Server."
            ],
            "text/plain": [
              "<IPython.core.display.Markdown object>"
            ]
          },
          "execution_count": 27,
          "metadata": {},
          "output_type": "execute_result"
        }
      ],
      "source": [
        "prompt2 = \"\"\"Summarize below document in one sentence.\n",
        "What is Azure SQL Managed Instance?\n",
        "Article\n",
        "09/29/2023\n",
        "28 contributors\n",
        "In this article\n",
        "Overview\n",
        "Key features and capabilities\n",
        "Supported SQL features\n",
        "vCore-based purchasing model\n",
        "Show 10 more\n",
        "Applies to:  Azure SQL Managed Instance\n",
        "\n",
        "This article provides an overview of Azure SQL Managed Instance, a fully managed platform as a service (PaaS) database engine that handles most database management functions such as upgrading, patching, backups, and monitoring without user involvement.\n",
        "\n",
        " Note\n",
        "\n",
        "Try Azure SQL Managed Instance free of charge and get 720 vCore hours on a General Purpose SQL Managed Instance with up to 100 databases per instance for the first 12 months.\n",
        "\n",
        "Azure SQL Managed Instance is a scalable cloud database service that's always running on the latest stable version of the Microsoft SQL Server database engine and a patched OS with 99.99% built-in high availability, offering close to 100% feature compatibility with SQL Server. PaaS capabilities built into Azure SQL Managed enable you to focus on domain-specific database administration and optimization activities that are critical for your business while Microsoft handles backups, as well as patching and updating of the SQL and operating system code, which removes the burden on managing the underlying infrastructure.\n",
        "\n",
        "If you're new to Azure SQL Managed Instance, check out the Azure SQL Managed Instance video from our in-depth Azure SQL video series:\n",
        "\n",
        "\n",
        " Note\n",
        "\n",
        "Microsoft Entra ID was previously known as Azure Active Directory (Azure AD).\n",
        "\n",
        "Overview\n",
        "Azure SQL Managed Instance is a PaaS service that has near 100% compatibility with the latest Enterprise Edition SQL Server database engine, providing a native virtual network (VNet) implementation that addresses common security concerns, and a business model favorable to existing SQL Server customers. SQL Managed Instance allows existing SQL Server customers to lift and shift their on-premises applications to the cloud with minimal application and database changes. At the same time, SQL Managed Instance provides all PaaS capabilities (automatic patching and version updates, automated backups, high availability) to drastically reduce management overhead and the total cost of ownership (TCO).\n",
        "\n",
        "SQL Managed Instance is designed for customers looking to migrate a large number of apps from an on-premises or IaaS, self-built, or ISV provided environment to a fully managed PaaS cloud environment, with as low a migration effort as possible. Using the fully automated Azure Data Migration Service, or the Managed Instance link, customers can lift and shift their existing SQL Server database or SQL Server instance to Azure SQL Managed Instance, which offers compatibility with SQL Server and complete isolation of customer instances with native VNet support.\n",
        "\n",
        "With Software Assurance, you can exchange your existing licenses for discounted rates on SQL Managed Instance using the Azure Hybrid Benefit for SQL Server. SQL Managed Instance is the best migration destination in the cloud for SQL Server instances that require high security and a rich programmability surface.\n",
        "\n",
        "For more information on migration options and tools, see Migration overview: SQL Server to Azure SQL Managed Instance.\n",
        "\n",
        "The following diagram outlines key benefits of SQL Managed Instance:\n",
        "\n",
        "Key features\n",
        "\n",
        " Important\n",
        "\n",
        "For a list of regions where SQL Managed Instance is currently available, see Supported regions.\n",
        "\n",
        "Key features and capabilities\n",
        "SQL Managed Instance runs with all of the features of the most recent version of SQL Server, including online operations, automatic plan corrections, and other enterprise performance enhancements. A comparison of the features available is explained in Feature comparison: Azure SQL Managed Instance versus SQL Server.\n",
        "\n",
        "SQL Managed Instance combines the best features that are available both in Azure SQL Database and the SQL Server database engine:\n",
        "\n",
        "PaaS benefits\tBusiness continuity\n",
        "No purchasing or managing hardware\n",
        "No management overhead to manage underlying infrastructure\n",
        "Quick provisioning and service scaling\n",
        "Automated patching and version upgrade\n",
        "You can stop and start the instance to save on costs\n",
        "Integration with other PaaS data services\t99.99% uptime SLA\n",
        "Built-in high availability\n",
        "SQL Server disaster recovery to SQL Managed Instance\n",
        "Data protected with automated backups\n",
        "Customer configurable backup retention period\n",
        "User-initiated backups that can be restored to SQL Server 2022\n",
        "Point-in-time database restore capability\n",
        "Security and compliance\tManagement\n",
        "Isolated environment (VNet integration, single tenant service, dedicated compute and storage)\n",
        "Adheres to the same compliance standards as Azure SQL Database\n",
        "Transparent data encryption (TDE)\n",
        "Microsoft Entra authentication, single sign-on support\n",
        "Microsoft Entra server principals (logins)\n",
        "Windows authentication for Microsoft Entra principals\n",
        "SQL auditing\n",
        "Advanced Threat Protection\tAzure Resource Manager API for automating service provisioning and scaling\n",
        "Azure portal functionality for manual service provisioning and scaling\n",
        "Data Migration Service\n",
        " Important\n",
        "\n",
        "Azure SQL Managed Instance has been certified against a number of compliance standards. For more information, see the Microsoft Azure Compliance Offerings, where you can find the most current list of SQL Managed Instance compliance certifications, listed under SQL Database.\n",
        "\n",
        "The following table shows key details of SQL Managed Instance:\n",
        "\n",
        "Feature\tDescription\n",
        "Azure portal management\tYes\n",
        "SQL Server version/build\tThe latest stable SQL Server database engine\n",
        "Managed automated backups\tYes\n",
        "Automatic software patching\tYes\n",
        "The latest database engine features\tYes\n",
        "Built-in instance and database monitoring and metrics\tYes\n",
        "SQL Server agent jobs\tYes\n",
        "Number of data files (ROWS) per the database\tMultiple\n",
        "Number of log files (LOG) per database\t1\n",
        "VNet - Azure Resource Manager deployment\tYes\n",
        "VNet - Classic deployment model\tNo\n",
        "Supported SQL features\n",
        "SQL Managed Instance aims to deliver close to 100% surface area compatibility with the latest SQL Server version through a staged release plan, which means that most features of SQL Server are also compatible with Azure SQL Managed Instance.\n",
        "\n",
        "SQL Managed Instance supports backward compatibility to SQL Server 2008 databases. Direct migration from SQL Server 2005 is supported, and the compatibility level for migrated SQL Server 2005 databases is updated to SQL Server 2008.\n",
        "\n",
        "The following briefly lists SQL Server features that are compatible with Azure SQL Managed Instance:\n",
        "\n",
        "Data migration\n",
        "\n",
        "Native backup and restore\n",
        "Configurable database file layout\n",
        "Migrations at scale with DMS\n",
        "Migrate with Managed Instance link\n",
        "Operational\n",
        "\n",
        "DMVs and Extended events\n",
        "Query store\n",
        "SQL Server Agent\n",
        "Database mail (external SMTP)\n",
        "Scenario enablers\n",
        "\n",
        "Service Broker\n",
        "Transactional Replication\n",
        "Change Data Capture\n",
        "Disaster recovery with Managed Instance link\n",
        "Programmability\n",
        "\n",
        "Global temporary tables\n",
        "Cross-database queries and transactions\n",
        "Linked servers\n",
        "CLR modules\n",
        "Security\n",
        "\n",
        "Integrated authentication with Microsoft Entra ID\n",
        "TDE\n",
        "Always Encrypted\n",
        "SQL Auditing\n",
        "Row-Level Security (RLS)\n",
        "Dynamic Data Masking\n",
        "For a thorough list comparing compatible features between SQL Server and Azure SQL Managed Instance, see SQL Managed Instance feature comparison, and for a list of T-SQL differences in SQL Managed Instance versus SQL Server, see SQL Managed Instance T-SQL differences from SQL Server.\n",
        "\n",
        "Key differences between SQL Server on-premises and SQL Managed Instance\n",
        "SQL Managed Instance benefits from being always-up-to-date in the cloud, which means that some features in SQL Server might be obsolete, retired, or have alternatives. There are specific cases when tools need to recognize that a particular feature works in a slightly different way or that the service is running in an environment you don't fully control.\n",
        "\n",
        "Some key differences:\n",
        "\n",
        "High availability is built in and preconfigured using technology similar to Always On availability groups.\n",
        "There are only automated backups and point-in-time restore. Customers can initiate copy-only backups that don't interfere with the automatic backup chain.\n",
        "Specifying full physical paths is unsupported, so all corresponding scenarios have to be supported differently: RESTORE DB doesn't support WITH MOVE, CREATE DB doesn't allow physical paths, BULK INSERT works with Azure blobs only, etc.\n",
        "SQL Managed Instance supports Microsoft Entra authentication and Windows Authentication for Microsoft Entra principals (Preview).\n",
        "SQL Managed Instance automatically manages XTP filegroups and files for databases containing In-Memory OLTP objects.\n",
        "SQL Managed Instance supports SQL Server Integration Services (SSIS) and can host an SSIS catalog (SSISDB) that stores SSIS packages, but they're executed on a managed Azure-SSIS Integration Runtime (IR) in Azure Data Factory. See Create Azure-SSIS IR in Data Factory. To compare the SSIS features, see Compare SQL Database to SQL Managed Instance.\n",
        "SQL Managed Instance supports connectivity only through the TCP protocol. It doesn't support connectivity through named pipes.\n",
        "You can stop and start the instance to save on costs.\n",
        "Business intelligence\n",
        "Azure SQL Managed Instance doesn't have the Business Intelligence suite natively built-in, but you can use the following services:\n",
        "\n",
        "SQL Server Integration Service (SSIS) is part of Azure Data Factory PaaS.\n",
        "SQL Server Analysis Service (SSAS) is a separate PaaS service in Azure.\n",
        "SQL Server Reporting Service (SSRS), you can use Power BI paginated reports instead or host SSRS on an Azure Virtual Machine. While SQL Managed Instance can't run SSRS as a service, it can host SSRS catalog databases for a reporting server installed on Azure Virtual Machine, using SQL Server authentication.\n",
        "Administration features\n",
        "SQL Managed Instance enables system administrators to spend less time on administrative tasks because the service either performs them for you or greatly simplifies those tasks. For example, OS/RDBMS installation and patching, dynamic instance resizing and configuration, backups, database replication (including system databases), high availability configuration, and configuration of health and performance monitoring data streams.\n",
        "\n",
        "For more information, see a list of supported and unsupported SQL Managed Instance features, and T-SQL differences between SQL Managed Instance and SQL Server.\n",
        "\n",
        "vCore-based purchasing model\n",
        "The vCore-based purchasing model for SQL Managed Instance gives you flexibility, control, transparency, and a straightforward way to translate on-premises workload requirements to the cloud. This model allows you to change compute, memory, and storage based upon your workload needs. The vCore model is also eligible for up to 55 percent savings with the Azure Hybrid Benefit for SQL Server.\n",
        "\n",
        "In the vCore model, you can choose hardware configurations as follows:\n",
        "\n",
        "Standard Series (Gen5) logical CPUs are based on Intel® E5-2673 v4 (Broadwell) 2.3 GHz, Intel® SP-8160 (Skylake), and Intel® 8272CL (Cascade Lake) 2.5-GHz processors, with 5.1 GB of RAM per CPU vCore, fast NVMe SSD, hyper-threaded logical core, and compute sizes between 4 and 80 cores.\n",
        "Premium Series logical CPUs are based on Intel® 8370C (Ice Lake) 2.8-GHz processors, with 7 GB of RAM per CPU vCore (up to 128 vCores), fast NVMe SSD, hyper-threaded logical core, and compute sizes between 4 and 128 cores.\n",
        "Premium Series Memory-Optimized logical CPUs are based on Intel® 8370C (Ice Lake) 2.8-GHz processors, with 13.6 GB of RAM per CPU vCore (up to 64 vCores), fast NVMe SSD, hyper-threaded logical core, and compute sizes between 4 and 64 cores.\n",
        "Find more information about the difference between hardware configurations in SQL Managed Instance resource limits.\n",
        "\n",
        "Service tiers\n",
        "The service tier generally defines the storage architecture, space and I/O limits, and business continuity options related to availability and disaster recovery.\n",
        "\n",
        "SQL Managed Instance is available in two service tiers:\n",
        "\n",
        "General Purpose: Designed for applications with typical performance and I/O latency requirements. You can use the upgraded Next-gen General Purpose service tier (preview) for improved performance metrics, and greater resource flexibility.\n",
        "Business Critical: Designed for applications with low I/O latency requirements and minimal impact of underlying maintenance operations on the workload.\n",
        "Management operations\n",
        "Azure SQL Managed Instance provides management operations that you can use to automatically deploy new managed instances, update instance properties, and delete instances when no longer needed. Detailed explanation of management operations can be found in Azure SQL Managed Instance management operations overview.\n",
        "\n",
        "Managed Instance link\n",
        "The Managed Instance link uses distributed availability group technology to synchronize databases between SQL Server and Azure SQL Managed Instance, unlocking a number of scenarios, such as:\n",
        "\n",
        "Using Azure services without migrating to the cloud\n",
        "Offloading read-only workloads to Azure\n",
        "Disaster recovery\n",
        "Migrating to Azure\n",
        "License-free DR benefit\n",
        "With Azure SQL Managed Instance, you can save on vCore licensing costs by designating a secondary replica for disaster recovery (DR) only. To learn more, review License-free DR benefit.\n",
        "\n",
        "Advanced security and compliance\n",
        "SQL Managed Instance comes with advanced security features provided by the Azure platform and the SQL Server database engine.\n",
        "\n",
        "Security isolation\n",
        "SQL Managed Instance provides additional security isolation from other tenants on the Azure platform. Security isolation includes:\n",
        "\n",
        "Native virtual network implementation and connectivity to your on-premises environment using Azure ExpressRoute or VPN Gateway.\n",
        "In a default deployment, the SQL endpoint is exposed only through a private IP address, allowing safe connectivity from private Azure or hybrid networks.\n",
        "Single-tenant with dedicated underlying infrastructure (compute, storage).\n",
        "The following diagram outlines various connectivity options for your applications:\n",
        "\n",
        "High availability\n",
        "\n",
        "To learn more details about VNet integration and networking policy enforcement at the subnet level, see VNet architecture for managed instances and Connect your application to a managed instance.\n",
        "\n",
        " Important\n",
        "\n",
        "Place multiple managed instances in the same subnet, wherever that is allowed by your security requirements, as that will bring you additional benefits. Co-locating instances in the same subnet significantly simplifies networking infrastructure maintenance and reduces instance provisioning time, since a long provisioning duration is associated with the cost of deploying the first managed instance in a subnet.\n",
        "\n",
        "Security features\n",
        "Azure SQL Managed Instance provides a set of advanced security features that can be used to protect your data.\n",
        "\n",
        "SQL Managed Instance auditing tracks database events and writes them to an audit log file placed in your Azure storage account. Auditing can help you maintain regulatory compliance, understand database activity, and gain insight into discrepancies and anomalies that could indicate business concerns or suspected security violations.\n",
        "Data encryption in motion - SQL Managed Instance secures your data by providing encryption for data in motion using Transport Layer Security (TLS). In addition to TLS, SQL Managed Instance offers protection of sensitive data in-flight, at-rest, and during query processing with Always Encrypted. Always Encrypted offers data security against breaches involving theft of critical data. For example, with Always Encrypted, credit card numbers are always stored encrypted in the database, even during query processing, allowing decryption at the point of use by authorized staff or applications that need to process that data.\n",
        "Advanced Threat Protection complements auditing by providing an additional layer of security intelligence built into the service that detects unusual and potentially harmful attempts to access or exploit databases. You're alerted about suspicious activities, potential vulnerabilities, and SQL injection attacks, as well as anomalous database access patterns. Advanced Threat Protection alerts can be viewed from Microsoft Defender for Cloud. They provide details of suspicious activity and recommend actions to investigate and mitigate the threat.\n",
        "Dynamic data masking limits sensitive data exposure by masking it to nonprivileged users. Dynamic data masking helps prevent unauthorized access to sensitive data by enabling you to designate how much of the sensitive data to reveal with minimal impact on the application layer. It's a policy-based security feature that hides sensitive data in the result set of a query over designated database fields, while the data in the database is unchanged.\n",
        "Row-level security (RLS) enables you to control access to rows in a database table based on the characteristics of the user executing a query (such as by group membership or execution context). RLS simplifies the design and coding of security in your application. RLS enables you to implement restrictions on data row access. For example, ensuring that workers can only access data rows that are pertinent to their department, or restricting data access only to relevant users.\n",
        "Transparent data encryption (TDE) encrypts SQL Managed Instance data files, known as encrypting data at-rest. TDE performs real-time I/O encryption and decryption of data and log files. The encryption uses a database encryption key (DEK), which is stored in the database boot record for availability during recovery. You can protect all your databases in a managed instance with transparent data encryption. TDE is proven SQL Server encryption-at-rest technology that is required by many compliance standards to protect against theft of storage media.\n",
        "Migration of an encrypted database to SQL Managed Instance is supported via Azure Database Migration Service or native restore. If you plan to migrate an encrypted database using native restore, migration of the existing TDE certificate from the SQL Server instance to SQL Managed Instance is a required step. For more information about migration options, see SQL Server to Azure SQL Managed Instance Guide.\n",
        "\n",
        "\n",
        "Microsoft Entra integration\n",
        "SQL Managed Instance supports traditional SQL Server database engine logins and logins integrated with Microsoft Entra ID (formerly Azure Active Directory). Microsoft Entra server principals (logins) are an Azure cloud version of on-premises database logins that use in your on-premises environment. Microsoft Entra server principals (logins) enable you to specify users and groups from your Microsoft Entra tenant as true instance-scoped principals, capable of performing any instance-level operation, including cross-database queries within the same managed instance.\n",
        "\n",
        "SQL Managed Instance enables you to centrally manage identities of database users and other Microsoft services with Microsoft Entra integration. This capability simplifies permission management and enhances security. Microsoft Entra ID supports multifactor authentication to increase data and application security while supporting a single sign-on process.\n",
        "\n",
        "A new syntax is introduced to create Microsoft Entra server principals (logins), FROM EXTERNAL PROVIDER. For more information on the syntax, see CREATE LOGIN, and review the Provision a Microsoft Entra administrator for SQL Managed Instance article.\n",
        "\n",
        "Authentication\n",
        "SQL Managed Instance authentication refers to how users prove their identity when connecting to the database. SQL Managed Instance supports three types of authentication:\n",
        "\n",
        "SQL Authentication: This authentication method uses a username and password.\n",
        "Microsoft Entra authentication: This authentication method uses identities managed by Microsoft Entra ID and is supported for managed and integrated domains. Use Active Directory authentication (integrated security) whenever possible.\n",
        "Windows authentication for Microsoft Entra principals: Kerberos authentication for Microsoft Entra principals enables Windows authentication for Azure SQL Managed Instance. Windows authentication for managed instances empowers customers to move existing services to the cloud while maintaining a seamless user experience and provides the basis for infrastructure modernization.\n",
        "Authorization\n",
        "Authorization refers to what a user can do within a database in Azure SQL Managed Instance, and is controlled by your user account's database role memberships and object-level permissions. SQL Managed Instance has the same authorization capabilities as SQL Server 2022.\n",
        "\n",
        "Database migration\n",
        "SQL Managed Instance targets user scenarios with mass database migration from on-premises or IaaS database implementations. SQL Managed Instance supports several database migration options that are discussed in the migration guides. See Migration overview: SQL Server to Azure SQL Managed Instance for more information.\n",
        "\n",
        "Back up and restore\n",
        "The migration approach leverages SQL backups to Azure Blob storage. Backups stored in Azure Blob Storage can be directly restored into a managed instance using the T-SQL RESTORE command.\n",
        "\n",
        "For a quickstart showing how to restore the Wide World Importers - Standard database backup file, see Restore a backup file to a managed instance. This quickstart shows that you have to upload a backup file to Azure Blob Storage and secure it using a shared access signature (SAS).\n",
        "For information about restore from URL, see Native RESTORE from URL.\n",
        " Important\n",
        "\n",
        "Backups from a managed instance can only be restored to other managed instances, or to SQL Server 2022. They cannot be restored to other versions of SQL Server, or to Azure SQL Database.\n",
        "\n",
        "Database Migration Service\n",
        "Azure Database Migration Service is a fully managed service designed to enable seamless migrations from multiple database sources to Azure data platforms with minimal downtime. This service streamlines the tasks required to move existing third-party and SQL Server databases to Azure SQL Database, Azure SQL Managed Instance, and SQL Server on Azure VM. See How to migrate your on-premises database to SQL Managed Instance using Database Migration Service.\n",
        "\n",
        "Managed Instance link\n",
        "The Managed Instance link uses distributed availability groups to extend your SQL Server on-premises Always On availability group hosted anywhere to Azure SQL Managed Instance in a safe and secure manner, replicating data in near real-time.\n",
        "\n",
        "The link feature facilitates migrating from SQL Server to SQL Managed Instance, which enables:\n",
        "\n",
        "The most performant, minimal downtime migration, compared to all other solutions available today.\n",
        "True online migration to SQL Managed Instance in any service tier.\n",
        "Because the link feature enables minimal downtime migration, you can migrate to your managed instance as you maintain your primary workload online. Although it's currently possible to achieve online migrations to the General Purpose service tier with other solutions, the link feature is the only solution that allows true online migrations to the Business Critical tier.\n",
        "\n",
        "Programmatically identify a managed instance\n",
        "The following table shows several properties, accessible through Transact-SQL, that you can use to detect that your application is working with SQL Managed Instance and retrieve important properties.\n",
        "\"\"\"\n",
        "\n",
        "messages = [\n",
        "    {\n",
        "        \"role\": \"user\",\n",
        "        \"content\": prompt2\n",
        "    }\n",
        "]\n",
        "\n",
        "promp2_response = get_completion(params, messages)\n",
        "IPython.display.Markdown(promp2_response.choices[0].message.content)"
      ]
    },
    {
      "cell_type": "code",
      "execution_count": 31,
      "metadata": {},
      "outputs": [
        {
          "data": {
            "text/markdown": [
              "Azure SQL Database is a fully managed service with predictable performance, dynamic scaling, and extensive monitoring and alerting capabilities, making it an ideal choice for modern cloud applications, and Azure SQL Managed Instance is a fully managed PaaS database engine with near 100% feature compatibility with SQL Server."
            ],
            "text/plain": [
              "<IPython.core.display.Markdown object>"
            ]
          },
          "execution_count": 31,
          "metadata": {},
          "output_type": "execute_result"
        }
      ],
      "source": [
        "prompt_chain = \"Summarize below document in one sentence. \" + promp1_response.choices[0].message.content + \"\\n\" + promp2_response.choices[0].message.content \n",
        "\n",
        "messages = [\n",
        "    {\n",
        "        \"role\": \"user\",\n",
        "        \"content\": prompt_chain\n",
        "    }\n",
        "]\n",
        "\n",
        "promptchain_response = get_completion(params, messages)\n",
        "IPython.display.Markdown(promptchain_response.choices[0].message.content)"
      ]
    },
    {
      "cell_type": "markdown",
      "metadata": {
        "nteract": {
          "transient": {
            "deleting": false
          }
        }
      },
      "source": [
        "### Other Prompting Techniques: \n",
        "\n",
        "Tree of thought\n",
        "\n",
        "RAG\n",
        "\n",
        "Automatic reasoning and tool use\n",
        "\n",
        "Automatic prompt engineer\n",
        "\n",
        "Active prompt\n",
        "\n",
        "\n"
      ]
    },
    {
      "cell_type": "code",
      "execution_count": null,
      "metadata": {
        "jupyter": {
          "outputs_hidden": false,
          "source_hidden": false
        },
        "nteract": {
          "transient": {
            "deleting": false
          }
        }
      },
      "outputs": [],
      "source": []
    }
  ],
  "metadata": {
    "kernel_info": {
      "name": "aoaikernel2"
    },
    "kernelspec": {
      "display_name": "aoaipoc",
      "language": "python",
      "name": "python3"
    },
    "language_info": {
      "codemirror_mode": {
        "name": "ipython",
        "version": 3
      },
      "file_extension": ".py",
      "mimetype": "text/x-python",
      "name": "python",
      "nbconvert_exporter": "python",
      "pygments_lexer": "ipython3",
      "version": "3.11.9"
    },
    "microsoft": {
      "host": {
        "AzureML": {
          "notebookHasBeenCompleted": true
        }
      },
      "ms_spell_check": {
        "ms_spell_check_language": "en"
      }
    },
    "nteract": {
      "version": "nteract-front-end@1.0.0"
    },
    "orig_nbformat": 4
  },
  "nbformat": 4,
  "nbformat_minor": 2
}
